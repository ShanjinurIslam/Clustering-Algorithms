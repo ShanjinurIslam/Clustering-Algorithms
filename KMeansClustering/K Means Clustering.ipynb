{
 "cells": [
  {
   "cell_type": "code",
   "execution_count": 92,
   "metadata": {},
   "outputs": [],
   "source": [
    "file = open('train.txt')\n",
    "\n",
    "lines = file.readlines()\n",
    "\n",
    "dataset = []\n",
    "\n",
    "for line in lines:\n",
    "    var = line.split()\n",
    "    dataset.append([float(var[i]) for i in range(len(var)-1)])"
   ]
  },
  {
   "cell_type": "code",
   "execution_count": 93,
   "metadata": {},
   "outputs": [
    {
     "data": {
      "text/html": [
       "<div>\n",
       "<style scoped>\n",
       "    .dataframe tbody tr th:only-of-type {\n",
       "        vertical-align: middle;\n",
       "    }\n",
       "\n",
       "    .dataframe tbody tr th {\n",
       "        vertical-align: top;\n",
       "    }\n",
       "\n",
       "    .dataframe thead th {\n",
       "        text-align: right;\n",
       "    }\n",
       "</style>\n",
       "<table border=\"1\" class=\"dataframe\">\n",
       "  <thead>\n",
       "    <tr style=\"text-align: right;\">\n",
       "      <th></th>\n",
       "      <th>X</th>\n",
       "      <th>Y</th>\n",
       "    </tr>\n",
       "  </thead>\n",
       "  <tbody>\n",
       "    <tr>\n",
       "      <th>0</th>\n",
       "      <td>2.0000</td>\n",
       "      <td>2.0000</td>\n",
       "    </tr>\n",
       "    <tr>\n",
       "      <th>1</th>\n",
       "      <td>1.7044</td>\n",
       "      <td>3.6651</td>\n",
       "    </tr>\n",
       "    <tr>\n",
       "      <th>2</th>\n",
       "      <td>1.6726</td>\n",
       "      <td>4.6705</td>\n",
       "    </tr>\n",
       "    <tr>\n",
       "      <th>3</th>\n",
       "      <td>1.4597</td>\n",
       "      <td>4.1940</td>\n",
       "    </tr>\n",
       "    <tr>\n",
       "      <th>4</th>\n",
       "      <td>1.9761</td>\n",
       "      <td>4.1965</td>\n",
       "    </tr>\n",
       "    <tr>\n",
       "      <th>...</th>\n",
       "      <td>...</td>\n",
       "      <td>...</td>\n",
       "    </tr>\n",
       "    <tr>\n",
       "      <th>96</th>\n",
       "      <td>7.8985</td>\n",
       "      <td>9.7286</td>\n",
       "    </tr>\n",
       "    <tr>\n",
       "      <th>97</th>\n",
       "      <td>7.2435</td>\n",
       "      <td>10.4561</td>\n",
       "    </tr>\n",
       "    <tr>\n",
       "      <th>98</th>\n",
       "      <td>7.4368</td>\n",
       "      <td>9.9139</td>\n",
       "    </tr>\n",
       "    <tr>\n",
       "      <th>99</th>\n",
       "      <td>7.5925</td>\n",
       "      <td>9.8320</td>\n",
       "    </tr>\n",
       "    <tr>\n",
       "      <th>100</th>\n",
       "      <td>8.1833</td>\n",
       "      <td>10.2707</td>\n",
       "    </tr>\n",
       "  </tbody>\n",
       "</table>\n",
       "<p>101 rows × 2 columns</p>\n",
       "</div>"
      ],
      "text/plain": [
       "          X        Y\n",
       "0    2.0000   2.0000\n",
       "1    1.7044   3.6651\n",
       "2    1.6726   4.6705\n",
       "3    1.4597   4.1940\n",
       "4    1.9761   4.1965\n",
       "..      ...      ...\n",
       "96   7.8985   9.7286\n",
       "97   7.2435  10.4561\n",
       "98   7.4368   9.9139\n",
       "99   7.5925   9.8320\n",
       "100  8.1833  10.2707\n",
       "\n",
       "[101 rows x 2 columns]"
      ]
     },
     "execution_count": 93,
     "metadata": {},
     "output_type": "execute_result"
    }
   ],
   "source": [
    "import numpy as np\n",
    "import pandas as pd\n",
    "\n",
    "df = pd.DataFrame(dataset,columns=['X','Y'])\n",
    "df"
   ]
  },
  {
   "cell_type": "code",
   "execution_count": 94,
   "metadata": {},
   "outputs": [
    {
     "data": {
      "text/plain": [
       "[<matplotlib.lines.Line2D at 0x7f3a91891a10>]"
      ]
     },
     "execution_count": 94,
     "metadata": {},
     "output_type": "execute_result"
    },
    {
     "data": {
      "image/png": "[encoded data removed]",
      "text/plain": [
       "<Figure size 432x288 with 1 Axes>"
      ]
     },
     "metadata": {
      "needs_background": "light"
     },
     "output_type": "display_data"
    }
   ],
   "source": [
    "import matplotlib.pyplot as plt\n",
    "\n",
    "plt.plot(df.X,df.Y,'ro')"
   ]
  },
  {
   "cell_type": "code",
   "execution_count": 95,
   "metadata": {},
   "outputs": [
    {
     "data": {
      "text/plain": [
       "array([76, 22])"
      ]
     },
     "execution_count": 95,
     "metadata": {},
     "output_type": "execute_result"
    }
   ],
   "source": [
    "number_cluster = 2\n",
    "\n",
    "indexes = np.random.randint(0,len(dataset),number_cluster)\n",
    "indexes"
   ]
  },
  {
   "cell_type": "code",
   "execution_count": 96,
   "metadata": {},
   "outputs": [
    {
     "data": {
      "text/plain": [
       "array([[7.8207, 9.8127],\n",
       "       [1.5094, 4.4282]])"
      ]
     },
     "execution_count": 96,
     "metadata": {},
     "output_type": "execute_result"
    }
   ],
   "source": [
    "centers = np.array(dataset)[indexes]\n",
    "centers"
   ]
  },
  {
   "cell_type": "code",
   "execution_count": 97,
   "metadata": {},
   "outputs": [],
   "source": [
    "while(True):\n",
    "    prev = np.array(centers)\n",
    "    c = np.zeros(len(dataset))\n",
    "\n",
    "    for i in range(len(dataset)):\n",
    "        dists = []\n",
    "        for j in centers:\n",
    "            dist = np.linalg.norm(dataset[i]-j)\n",
    "            dists.append(dist)\n",
    "        c[i] = np.argmin(dists)\n",
    "        \n",
    "    dataset = np.array(dataset)\n",
    "\n",
    "    for i in range(number_cluster):\n",
    "        indexes = np.where(c==i)[0]\n",
    "        arr = dataset[indexes]\n",
    "        centers[i] = arr.mean(axis=0)\n",
    "    \n",
    "    if((centers-prev).mean()==0):\n",
    "        break"
   ]
  },
  {
   "cell_type": "code",
   "execution_count": 104,
   "metadata": {},
   "outputs": [
    {
     "data": {
      "image/png": "[encoded data removed]",
      "text/plain": [
       "<Figure size 432x288 with 1 Axes>"
      ]
     },
     "metadata": {
      "needs_background": "light"
     },
     "output_type": "display_data"
    }
   ],
   "source": [
    "plt.plot(df.X,df.Y,'ro')\n",
    "\n",
    "for i in centers:\n",
    "    plt.plot(i[0],centers[0][1],'bo')"
   ]
  },
  {
   "cell_type": "code",
   "execution_count": null,
   "metadata": {},
   "outputs": [],
   "source": []
  }
 ],
 "metadata": {
  "kernelspec": {
   "display_name": "Python 3",
   "language": "python",
   "name": "python3"
  },
  "language_info": {
   "codemirror_mode": {
    "name": "ipython",
    "version": 3
   },
   "file_extension": ".py",
   "mimetype": "text/x-python",
   "name": "python",
   "nbconvert_exporter": "python",
   "pygments_lexer": "ipython3",
   "version": "3.7.6"
  }
 },
 "nbformat": 4,
 "nbformat_minor": 4
}
